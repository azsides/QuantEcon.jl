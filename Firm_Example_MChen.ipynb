{
  "nbformat": 4,
  "nbformat_minor": 0,
  "metadata": {
    "colab": {
      "provenance": [],
      "include_colab_link": true
    },
    "kernelspec": {
      "name": "python3",
      "display_name": "Python 3"
    },
    "language_info": {
      "name": "python"
    }
  },
  "cells": [
    {
      "cell_type": "markdown",
      "metadata": {
        "id": "view-in-github",
        "colab_type": "text"
      },
      "source": [
        "<a href=\"https://colab.research.google.com/github/azsides/QuantEcon.jl/blob/master/Firm_Example_MChen.ipynb\" target=\"_parent\"><img src=\"https://colab.research.google.com/assets/colab-badge.svg\" alt=\"Open In Colab\"/></a>"
      ]
    },
    {
      "cell_type": "code",
      "execution_count": null,
      "metadata": {
        "colab": {
          "base_uri": "https://localhost:8080/"
        },
        "id": "2AyCS6lU5ki1",
        "outputId": "560a4d9e-7388-4273-ff68-c4dc18c9ca12"
      },
      "outputs": [
        {
          "output_type": "stream",
          "name": "stdout",
          "text": [
            "[[1 1 0 0]\n",
            " [1 1 1 0]\n",
            " [0 1 1 0]\n",
            " [0 0 0 1]]\n"
          ]
        }
      ],
      "source": [
        "import numpy as np\n",
        "import scipy as scp\n",
        "\n",
        "matrix = np.array([[1, 1, 0, 0], [1, 1, 1, 0], [0, 1, 1, 0], [0, 0, 0, 1]])\n",
        "print(matrix)"
      ]
    },
    {
      "cell_type": "markdown",
      "source": [
        "Try 1: Using single linkage clustering (Note: this algorithm does not work.  Go to \"Try 2\")"
      ],
      "metadata": {
        "id": "wlsFpIWv6Fdx"
      }
    },
    {
      "cell_type": "code",
      "source": [
        "link_matrix = scp.cluster.hierarchy.linkage(matrix, metric='cityblock')\n",
        "print(link_matrix)"
      ],
      "metadata": {
        "colab": {
          "base_uri": "https://localhost:8080/"
        },
        "id": "jLu8fUJq6INL",
        "outputId": "6717d7ec-c21c-407e-f687-6f785e08793e"
      },
      "execution_count": null,
      "outputs": [
        {
          "output_type": "stream",
          "name": "stdout",
          "text": [
            "[[0. 1. 1. 2.]\n",
            " [2. 4. 1. 3.]\n",
            " [3. 5. 3. 4.]]\n"
          ]
        }
      ]
    },
    {
      "cell_type": "markdown",
      "source": [
        "Sum each column of the matrix:"
      ],
      "metadata": {
        "id": "QiEglVas7Mkz"
      }
    },
    {
      "cell_type": "code",
      "source": [
        "print(link_matrix.sum(axis=0))"
      ],
      "metadata": {
        "colab": {
          "base_uri": "https://localhost:8080/"
        },
        "id": "F9G98MDq7QDA",
        "outputId": "afdbc944-f7b8-4da8-8bdc-b3a4204e9ddc"
      },
      "execution_count": null,
      "outputs": [
        {
          "output_type": "stream",
          "name": "stdout",
          "text": [
            "[ 5. 10.  5.  9.]\n"
          ]
        }
      ]
    },
    {
      "cell_type": "markdown",
      "source": [
        "We take the index of the unique values (e.g. 10, 9); the indices are 2 and 4."
      ],
      "metadata": {
        "id": "iUIoM4SQ7oPZ"
      }
    },
    {
      "cell_type": "markdown",
      "source": [
        "Let's try a larger example?"
      ],
      "metadata": {
        "id": "X796Bz8w7is2"
      }
    },
    {
      "cell_type": "code",
      "source": [
        "np.random.seed(1)\n",
        "matrix = np.random.randint(0, 2, (4,4))\n",
        "matrix ^= matrix.T\n",
        "np.fill_diagonal(matrix, 1)\n",
        "print(matrix)"
      ],
      "metadata": {
        "colab": {
          "base_uri": "https://localhost:8080/"
        },
        "id": "4bWd9yOz7w8w",
        "outputId": "f7ab4c3a-4137-41ec-8967-0bc567d4d83a"
      },
      "execution_count": null,
      "outputs": [
        {
          "output_type": "stream",
          "name": "stdout",
          "text": [
            "[[1 0 1 0]\n",
            " [0 1 1 0]\n",
            " [1 1 1 0]\n",
            " [0 0 0 1]]\n"
          ]
        }
      ]
    },
    {
      "cell_type": "markdown",
      "source": [
        "From manually looking at the matrix:\n",
        "Unique columns are 3, 4\n"
      ],
      "metadata": {
        "id": "_wNIVis48Zzy"
      }
    },
    {
      "cell_type": "code",
      "source": [
        "link_matrix = scp.cluster.hierarchy.linkage(matrix, method='complete', metric='cityblock')\n",
        "print(link_matrix)\n",
        "print(link_matrix.sum(axis=0))"
      ],
      "metadata": {
        "colab": {
          "base_uri": "https://localhost:8080/"
        },
        "id": "1EAasa9F9Uon",
        "outputId": "93b3be48-b5cd-4f15-8c2e-9ee6ef47c782"
      },
      "execution_count": null,
      "outputs": [
        {
          "output_type": "stream",
          "name": "stdout",
          "text": [
            "[[0. 2. 1. 2.]\n",
            " [1. 4. 2. 3.]\n",
            " [3. 5. 4. 4.]]\n",
            "[ 4. 11.  7.  9.]\n"
          ]
        }
      ]
    },
    {
      "cell_type": "markdown",
      "source": [
        "Hmm, so that doesn't seem to work.  Let's check the rank of the matrix\n"
      ],
      "metadata": {
        "id": "eQ0Ipe2J-x9B"
      }
    },
    {
      "cell_type": "code",
      "source": [
        "print(np.linalg.matrix_rank(matrix))\n"
      ],
      "metadata": {
        "colab": {
          "base_uri": "https://localhost:8080/"
        },
        "id": "zqMa7DcE-06H",
        "outputId": "1e0f2bb1-4236-46fd-d68c-51c1d9393b14"
      },
      "execution_count": null,
      "outputs": [
        {
          "output_type": "stream",
          "name": "stdout",
          "text": [
            "4\n"
          ]
        }
      ]
    },
    {
      "cell_type": "markdown",
      "source": [
        "Try 2: I think there can be a greedy approach?  Maybe this algorithm would work:"
      ],
      "metadata": {
        "id": "_cRI_TT9_VGg"
      }
    },
    {
      "cell_type": "markdown",
      "source": [
        "1) Sum all entries of each column"
      ],
      "metadata": {
        "id": "Aft3VLiK_mUi"
      }
    },
    {
      "cell_type": "code",
      "source": [
        "col_sum = matrix.sum(axis=0)\n",
        "print(col_sum)"
      ],
      "metadata": {
        "colab": {
          "base_uri": "https://localhost:8080/"
        },
        "id": "OYwg_6jk_eyB",
        "outputId": "8de3abb7-5d14-4209-ee45-27e1421113ce"
      },
      "execution_count": null,
      "outputs": [
        {
          "output_type": "stream",
          "name": "stdout",
          "text": [
            "[2 2 3 1]\n"
          ]
        }
      ]
    },
    {
      "cell_type": "markdown",
      "source": [
        "2) Choose the index of the highest number.  This is your first 'firm'.  (Note: python uses 0-indexing)"
      ],
      "metadata": {
        "id": "HQgOGIf1_q0n"
      }
    },
    {
      "cell_type": "code",
      "source": [
        "firm = np.argmax(col_sum)\n",
        "print(firm)"
      ],
      "metadata": {
        "colab": {
          "base_uri": "https://localhost:8080/"
        },
        "id": "BJOfaGgU_xr6",
        "outputId": "8d162595-e44b-41af-e924-c9c39600b6cb"
      },
      "execution_count": null,
      "outputs": [
        {
          "output_type": "stream",
          "name": "stdout",
          "text": [
            "2\n"
          ]
        }
      ]
    },
    {
      "cell_type": "markdown",
      "source": [
        "3) \"Mask out\" the rows using the 1s in the selected column"
      ],
      "metadata": {
        "id": "pcBd2PIDAGtO"
      }
    },
    {
      "cell_type": "code",
      "source": [
        "selected_col = matrix[:][2]\n",
        "print(selected_col)\n",
        "non_zero_indices = np.nonzero(selected_col)\n",
        "print(non_zero_indices[0])\n",
        "for i in non_zero_indices[0]:\n",
        "  print(i)\n",
        "  matrix[i][:] = 0\n",
        "print(matrix)\n"
      ],
      "metadata": {
        "colab": {
          "base_uri": "https://localhost:8080/"
        },
        "id": "K11J8jWFAexJ",
        "outputId": "735157f9-76da-4931-a605-9e8b20b54a6e"
      },
      "execution_count": null,
      "outputs": [
        {
          "output_type": "stream",
          "name": "stdout",
          "text": [
            "[1 1 1 0]\n",
            "[0 1 2]\n",
            "0\n",
            "1\n",
            "2\n",
            "[[0 0 0 0]\n",
            " [0 0 0 0]\n",
            " [0 0 0 0]\n",
            " [0 0 0 1]]\n"
          ]
        }
      ]
    },
    {
      "cell_type": "markdown",
      "source": [
        "4) Take the sum over all columns again, and repeat.  Here, column 4 (index 3) is the only remaining nonzero value, so we're done!"
      ],
      "metadata": {
        "id": "16Tp9bK2Br12"
      }
    },
    {
      "cell_type": "markdown",
      "source": [
        "Let's manually try this for a larger 6x6 example:"
      ],
      "metadata": {
        "id": "tY7pyQ_NB_g_"
      }
    },
    {
      "cell_type": "code",
      "source": [
        "np.random.seed(1)\n",
        "matrix = np.random.randint(0, 2, (6,6))\n",
        "matrix ^= matrix.T\n",
        "np.fill_diagonal(matrix, 1)\n",
        "print(matrix)\n",
        "print(\"Taking the sum over columns:\")\n",
        "print(matrix.sum(axis=0))\n",
        "print(\"The last column is the largest, and we can mask everything out\")\n",
        "print(\"That leaves us with column 3 (index 2), so the answer here is firm 3 and firm 6\")"
      ],
      "metadata": {
        "colab": {
          "base_uri": "https://localhost:8080/"
        },
        "id": "UjAZ2yhNCDXH",
        "outputId": "affdab43-f575-44e8-bb30-a951fba47246"
      },
      "execution_count": null,
      "outputs": [
        {
          "output_type": "stream",
          "name": "stdout",
          "text": [
            "[[1 0 0 0 0 1]\n",
            " [0 1 0 0 0 1]\n",
            " [0 0 1 0 0 0]\n",
            " [0 0 0 1 0 1]\n",
            " [0 0 0 0 1 1]\n",
            " [1 1 0 1 1 1]]\n",
            "Taking the sum over columns:\n",
            "[2 2 1 2 2 5]\n",
            "The last column is the largest, and we can mask everything out\n",
            "That leaves us with column 3 (index 2), so the answer here is firm 3 and firm 6\n"
          ]
        }
      ]
    },
    {
      "cell_type": "markdown",
      "source": [
        "Let's try a different seed for the 6x6 case"
      ],
      "metadata": {
        "id": "N8-LzdspCfO1"
      }
    },
    {
      "cell_type": "code",
      "source": [
        "np.random.seed(2)\n",
        "matrix = np.random.randint(0, 2, (6,6))\n",
        "matrix ^= matrix.T\n",
        "np.fill_diagonal(matrix, 1)\n",
        "print(matrix)\n",
        "print(\"Taking the sum:\")\n",
        "print(matrix.sum(axis=0))"
      ],
      "metadata": {
        "colab": {
          "base_uri": "https://localhost:8080/"
        },
        "id": "7n-D29PjChxG",
        "outputId": "ecb1500b-969e-4396-d1dc-9cef83ad8c53"
      },
      "execution_count": null,
      "outputs": [
        {
          "output_type": "stream",
          "name": "stdout",
          "text": [
            "[[1 1 0 0 1 0]\n",
            " [1 1 1 1 0 1]\n",
            " [0 1 1 1 1 1]\n",
            " [0 1 1 1 1 0]\n",
            " [1 0 1 1 1 1]\n",
            " [0 1 1 0 1 1]]\n",
            "Taking the sum:\n",
            "[3 5 5 4 5 4]\n"
          ]
        }
      ]
    },
    {
      "cell_type": "markdown",
      "source": [
        "Yikes.  Is there a unique case here?  I don't think so.\n",
        "Firms 2, 3, 5 all have 5 providers, and they're all just missing a different one.  So, you could take any combo of one of those firms + another one?"
      ],
      "metadata": {
        "id": "HjJ6g6AQC5c4"
      }
    }
  ]
}